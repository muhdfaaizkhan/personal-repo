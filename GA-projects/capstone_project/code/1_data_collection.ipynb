{
 "cells": [
  {
   "cell_type": "markdown",
   "metadata": {},
   "source": [
    "<img src=\"http://imgur.com/1ZcRyrc.png\" style=\"float: left; margin: 5px; height: 70px\">\n",
    "\n",
    "## Notebook 1: Data Collection"
   ]
  },
  {
   "cell_type": "markdown",
   "metadata": {},
   "source": [
    "### Goals for data collection\n",
    "___\n",
    "The aim for the CNN model is to be able to predict the appropriate keyboard input based on the information on the battle screen. Thus, the target variable for our problem is the keyboard input, while the predictor variable will be the game screen.\n",
    "\n",
    "For this reason, we will need to collect the following information from our play sessions:\n",
    "- Screenshots of the game screen\n",
    "- Keyboard inputs when the screenshot is taken\n",
    "\n",
    "We will also need a way to pair each image with its respective input, as images collected are saved as seperate files instead of simply being appended to a Python list."
   ]
  },
  {
   "cell_type": "markdown",
   "metadata": {},
   "source": [
    "### Imports"
   ]
  },
  {
   "cell_type": "code",
   "execution_count": 1,
   "metadata": {},
   "outputs": [],
   "source": [
    "import cv2 as cv\n",
    "from datetime import datetime\n",
    "import time\n",
    "import keyboard as kb\n",
    "import pandas as pd\n",
    "import os\n",
    "\n",
    "from windowcapture import WindowCapture\n",
    "import capstone_library as cl"
   ]
  },
  {
   "cell_type": "markdown",
   "metadata": {},
   "source": [
    "#### Creating directories\n",
    "We use today's date to create new directories for the images and the input dataframe. The date will also be used to name the images and for row indexing."
   ]
  },
  {
   "cell_type": "code",
   "execution_count": 2,
   "metadata": {},
   "outputs": [],
   "source": [
    "# Get today's date\n",
    "today = datetime.now().strftime('%Y-%m-%d')\n",
    "\n",
    "# Define paths to save images to\n",
    "imgpath = ('../data/raw_img/{}/'.format(str(today)))\n",
    "if not os.path.exists(imgpath):\n",
    "    for mon in cl.opponents:\n",
    "        os.makedirs(imgpath + mon + '/')\n",
    "\n",
    "# Define path to save inputs to\n",
    "inputpath =  ('../data/input/{}/'.format(str(today)))\n",
    "if not os.path.exists(inputpath):\n",
    "    os.makedirs(inputpath + '/')"
   ]
  },
  {
   "cell_type": "markdown",
   "metadata": {},
   "source": [
    "### Initialising `WindowCapture` objects\n",
    "___\n",
    "\n",
    "The `WindowCapture` and `Vision` classes are imported from seperate Python scripts (`Vision` is imported into the `capstone_library.py` script, which is then imported into this notebook). Objects of these classes are used to perform the following tasks:\n",
    "\n",
    "1. `WindowCapture`: Detect an open instance of the game window, then capture the battle scene in the window, allowing us to script a screenshot capture function.\n",
    "\n",
    "    - Passing `portrait=True` when instantiating a `WindowCapture` object will capture the position of the enemy portrait instead, which we will use for computer vision capability.\n",
    "\n",
    "2. `Vision`: Uses OpenCV template matching to detect matches to a given template when passed an input image. This is used in conjunction with the above, to identify the opponent in the battle scene.\n",
    "\n",
    "Below is a visualisation of the images read from an open window of _Close Combat_. Image 1 is a capture of the battle scene while Image 2 captures the opponent portrait."
   ]
  },
  {
   "cell_type": "markdown",
   "metadata": {},
   "source": [
    "<img src=\"images/battle_screen.png\"/>"
   ]
  },
  {
   "cell_type": "markdown",
   "metadata": {},
   "source": [
    "The portraits used as detection templates are shown below, corresponding to `poliwrath`, `heracross` and `mienshao`, the three opponent Pokemon for which we will perform modelling."
   ]
  },
  {
   "cell_type": "markdown",
   "metadata": {},
   "source": [
    "<img src=\"../data/portrait/poliwrath.png\"/>\n",
    "<img src=\"../data/portrait/heracross.png\"/>\n",
    "<img src=\"../data/portrait/mienshao.png\"/>"
   ]
  },
  {
   "cell_type": "markdown",
   "metadata": {},
   "source": [
    "It may seem simpler to only capture one screenshot of the entire game screen, which would reduce the number of `WindowCapture` objects running simultaneously from 2 to 1. However, note that for the purposes of prediction, the bottom portrait section offers little to no information regarding the state of the battle scene. Cropping out the portraits will facilitate the model in focusing on meaningful information within the battle scene for performing predictions. It also has the benefit of reducing file size, which is helpful when mass collecting images."
   ]
  },
  {
   "cell_type": "markdown",
   "metadata": {},
   "source": [
    "While the `WindowCapture` objects are initialised here, the `Vision` objects are initialised during the data collection process, within the `cl.portraitcheck()` function. Refer to the data collection process section."
   ]
  },
  {
   "cell_type": "code",
   "execution_count": 3,
   "metadata": {},
   "outputs": [],
   "source": [
    "# Initialise WindowCapture. Make sure the game window is open first!\n",
    "\n",
    "# wincap object captures battle scene(Image 1)\n",
    "wincap = WindowCapture('pkmncc_09')\n",
    "\n",
    "# portcap object captures enemy portrait(Image 2)\n",
    "portcap = WindowCapture('pkmncc_09', portrait=True)"
   ]
  },
  {
   "cell_type": "markdown",
   "metadata": {},
   "source": [
    "#### Troubleshooting `WindowCapture`\n",
    "The commented code below can be run to troubleshoot the window capture capability. If the window capture is functioning, a window will open to show successive images captured in real-time (the images will appear to be a video stream, as images will consecutively replace each other)."
   ]
  },
  {
   "cell_type": "code",
   "execution_count": 4,
   "metadata": {},
   "outputs": [],
   "source": [
    "# Troubleshooting window capture\n",
    "# while(True):\n",
    "#     screenshot = wincap.get_screenshot()\n",
    "#     cv.imshow('test', screenshot)\n",
    "#     if cv.waitKey(1) & 0xFF == ord('q'):\n",
    "#         cv.destroyAllWindows()\n",
    "#         break"
   ]
  },
  {
   "cell_type": "markdown",
   "metadata": {},
   "source": [
    "### Data collection process\n",
    "___\n",
    "The data collection process can be summarised as follows:\n",
    "1. While the `run_collect` function is running, repeatedly capture the battle scene and enemy portrait area.\n",
    "\n",
    "2. Check the portrait area for a known enemy Pokemon's portrait. (Known portraits are saved in `..\\data\\portrait` and are used as templates for matching.) \n",
    "3. When a known portrait is detected, save the battle scene image to the specified directory.\n",
    "    - Images are saved with a name in the datetime format (at the scale of milliseconds) so that they do not overwrite each other during data collection.\n",
    "    - The `Vision` objects are used to detect the opponent Pokemon. Images are sorted into different folders based on the opponent Pokemon detected.\n",
    "4. At the same time, the keyboard inputs, date/time of recording and opponent's name are appended to their respective lists. Each recording of keyboard inputs is saved as a list of 7 integers, which indicate whether the respective key is pressed during the recording.\n",
    "    - Keys are recorded in this order: `['SPACEBAR', 'a', 's', 'd', 'j', 'k', 'l']`. For example, a input recording of `[0, 0, 0, 1, 0, 1, 0]` indicates that the `d` and `k` keys were pressed during the time of recording.\n",
    "5. Inputs and images are recorded this way at an interval of 0.25 seconds.\n",
    "6. When the user terminates the collection function, all lists are combined into a single dataframe, with each input given its own column. The dataframe is then exported to the specified directory. Each row of the dataframe can be matched to its respective image by comparing the `time` column and the name of the image.\n",
    "\n",
    "We can then move on to EDA and data engineering.\n"
   ]
  },
  {
   "cell_type": "code",
   "execution_count": 5,
   "metadata": {},
   "outputs": [],
   "source": [
    "'''Defining functions to collect inputs and screen captures'''\n",
    "\n",
    "# collect() function captures the screenshots, keys and other information specified above\n",
    "def collect(input_l, time_l, opp_n):\n",
    "    timenow = today + ',' + datetime.now().strftime(\"%H-%M-%S-%f\")[:-3]\n",
    "    screenshot = wincap.get_screenshot()\n",
    "    portshot = portcap.get_screenshot()\n",
    "\n",
    "    # Only saves inputs and screenshots when a known enemy Pokemon portrait is detected\n",
    "    # cl.portraitcheck() uses Vision objects for each Pokemon, for template matching\n",
    "    mon = cl.portraitcheck(portshot)\n",
    "    if mon:\n",
    "        input_l.append(cl.keylog())\n",
    "        time_l.append(timenow)\n",
    "        opp_n.append(mon)\n",
    "        cv.imwrite(imgpath + mon + '/{}.png'.format(timenow),\n",
    "            screenshot)\n",
    "    return timenow\n",
    "\n",
    "# run_collect function loops thorugh a while loop to repeatedly capture the data, then saves the dataframe once completed.\n",
    "def run_collect():\n",
    "    # Initialise lists to collect inputs, time and opponent name\n",
    "    input_list = []\n",
    "    time_list = []\n",
    "    opp_name = []\n",
    "    print('Running collection...')\n",
    "    # Collect data, break on q press\n",
    "    while True:\n",
    "        timenow = collect(input_list, time_list, opp_name)\n",
    "        time.sleep(0.25)\n",
    "        if kb.is_pressed('q'):\n",
    "            print('Quitting...')\n",
    "            break\n",
    "\n",
    "    # Save inputs to csv\n",
    "    df = pd.DataFrame({'time':time_list,\n",
    "                        'opp':opp_name})\n",
    "    df[cl.controls] = pd.DataFrame(input_list, index=df.index)\n",
    "    filename ='{}.csv'.format(timenow)\n",
    "    df.to_csv(inputpath + filename, index=False)\n",
    "    print('{} has been saved to {}'.format(filename, inputpath))"
   ]
  },
  {
   "cell_type": "code",
   "execution_count": 6,
   "metadata": {},
   "outputs": [
    {
     "name": "stdout",
     "output_type": "stream",
     "text": [
      "Running collection...\n",
      "Quitting...\n",
      "2024-02-25,14-12-44-596.csv has been saved to ../data/input/2024-02-25/\n"
     ]
    }
   ],
   "source": [
    "'''\n",
    "Run this function to collect screen captures, corresponding input and time.\n",
    "Screencaps are sorted by opponent and saved to the respective folder.\n",
    "Inputs are saved to a csv.\n",
    "Press q to quit.\n",
    "'''\n",
    "df = run_collect()"
   ]
  },
  {
   "cell_type": "code",
   "execution_count": null,
   "metadata": {},
   "outputs": [],
   "source": [
    "'''\n",
    "Code in this block was used to capture the character portraits for character detection and does not need to be rerun\n",
    "'''\n",
    "# savepath = '../data/portrait/'\n",
    "\n",
    "# # Initialise WindowCapture to catch portrait position\n",
    "# portcap = WindowCapture('pkmncc_09',portrait=True)\n",
    "\n",
    "# while(True):\n",
    "\n",
    "#     # get an updated image of the portrait position\n",
    "#     portshot = portcap.get_screenshot()\n",
    "#     cv.imshow('portrait', portshot)\n",
    "\n",
    "#     # press e to take screenshot of portrait\n",
    "#     if kb.is_pressed('e'):\n",
    "#         cv.imwrite(savepath + str(datetime.now().strftime(\"%Y%m%d-%H%M%S\")) + '.png',\n",
    "#         portshot)\n",
    "\n",
    "#     if kb.is_pressed('q'):\n",
    "#         cv.destroyAllWindows()\n",
    "#         break"
   ]
  }
 ],
 "metadata": {
  "kernelspec": {
   "display_name": "Python 3",
   "language": "python",
   "name": "python3"
  },
  "language_info": {
   "codemirror_mode": {
    "name": "ipython",
    "version": 3
   },
   "file_extension": ".py",
   "mimetype": "text/x-python",
   "name": "python",
   "nbconvert_exporter": "python",
   "pygments_lexer": "ipython3",
   "version": "3.9.13"
  }
 },
 "nbformat": 4,
 "nbformat_minor": 2
}
